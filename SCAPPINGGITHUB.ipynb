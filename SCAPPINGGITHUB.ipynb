{
 "cells": [
  {
   "cell_type": "code",
   "execution_count": 1,
   "id": "3e33a4ec",
   "metadata": {},
   "outputs": [],
   "source": [
    "import requests\n",
    "url = \"https://github.com/topics\"\n",
    "response = requests.get(url)"
   ]
  },
  {
   "cell_type": "code",
   "execution_count": 2,
   "id": "68d7f611",
   "metadata": {},
   "outputs": [
    {
     "data": {
      "text/plain": [
       "200"
      ]
     },
     "execution_count": 2,
     "metadata": {},
     "output_type": "execute_result"
    }
   ],
   "source": [
    "response.status_code"
   ]
  },
  {
   "cell_type": "code",
   "execution_count": 3,
   "id": "7c0ffdbb",
   "metadata": {},
   "outputs": [
    {
     "data": {
      "text/plain": [
       "164711"
      ]
     },
     "execution_count": 3,
     "metadata": {},
     "output_type": "execute_result"
    }
   ],
   "source": [
    "len(response.text)"
   ]
  },
  {
   "cell_type": "code",
   "execution_count": 4,
   "id": "eef48637",
   "metadata": {},
   "outputs": [
    {
     "data": {
      "text/plain": [
       "'\\n\\n<!DOCTYPE html>\\n<html lang=\"en\" data-color-mode=\"auto\" data-light-theme=\"light\" data-dark-theme=\"dark\"  data-a11y-animated-images=\"system\" data-a11y-link-underlines=\"false\">\\n  <head>\\n    <meta charset=\"utf-8\">\\n  <link rel=\"dns-prefetch\" href=\"https://github.githubassets.com\">\\n  <link rel=\"dns-prefetch\" href=\"https://avatars.githubusercontent.com\">\\n  <link rel=\"dns-prefetch\" href=\"https://github-cloud.s3.amazonaws.com\">\\n  <link rel=\"dns-prefetch\" href=\"https://user-images.githubusercontent.com/'"
      ]
     },
     "execution_count": 4,
     "metadata": {},
     "output_type": "execute_result"
    }
   ],
   "source": [
    "page_content = response.text\n",
    "page_content[:500]"
   ]
  },
  {
   "cell_type": "code",
   "execution_count": 5,
   "id": "2764a50d",
   "metadata": {},
   "outputs": [],
   "source": [
    "with open(\"webpage.html\",\"w\") as f:\n",
    "    f.write(page_content)"
   ]
  },
  {
   "cell_type": "code",
   "execution_count": 6,
   "id": "724e3099",
   "metadata": {},
   "outputs": [],
   "source": [
    "#Using BeautifulSoup to Extract Information\n",
    "from bs4 import BeautifulSoup\n",
    "soup= BeautifulSoup(page_content,\"html.parser\")"
   ]
  },
  {
   "cell_type": "code",
   "execution_count": 7,
   "id": "f1e061e8",
   "metadata": {},
   "outputs": [
    {
     "data": {
      "text/plain": [
       "69"
      ]
     },
     "execution_count": 7,
     "metadata": {},
     "output_type": "execute_result"
    }
   ],
   "source": [
    "len(soup.find_all('p'))"
   ]
  },
  {
   "cell_type": "code",
   "execution_count": 8,
   "id": "a70378fc",
   "metadata": {
    "scrolled": true
   },
   "outputs": [
    {
     "data": {
      "text/plain": [
       "[<p class=\"f3 lh-condensed mb-0 mt-1 Link--primary\">3D</p>,\n",
       " <p class=\"f3 lh-condensed mb-0 mt-1 Link--primary\">Ajax</p>,\n",
       " <p class=\"f3 lh-condensed mb-0 mt-1 Link--primary\">Algorithm</p>,\n",
       " <p class=\"f3 lh-condensed mb-0 mt-1 Link--primary\">Amp</p>,\n",
       " <p class=\"f3 lh-condensed mb-0 mt-1 Link--primary\">Android</p>]"
      ]
     },
     "execution_count": 8,
     "metadata": {},
     "output_type": "execute_result"
    }
   ],
   "source": [
    "title = soup.find_all('p',class_ = 'f3 lh-condensed mb-0 mt-1 Link--primary')\n",
    "title[:5]"
   ]
  },
  {
   "cell_type": "code",
   "execution_count": 9,
   "id": "fa3a40f4",
   "metadata": {},
   "outputs": [
    {
     "data": {
      "text/plain": [
       "['3D',\n",
       " 'Ajax',\n",
       " 'Algorithm',\n",
       " 'Amp',\n",
       " 'Android',\n",
       " 'Angular',\n",
       " 'Ansible',\n",
       " 'API',\n",
       " 'Arduino',\n",
       " 'ASP.NET',\n",
       " 'Atom',\n",
       " 'Awesome Lists',\n",
       " 'Amazon Web Services',\n",
       " 'Azure',\n",
       " 'Babel',\n",
       " 'Bash',\n",
       " 'Bitcoin',\n",
       " 'Bootstrap',\n",
       " 'Bot',\n",
       " 'C',\n",
       " 'Chrome',\n",
       " 'Chrome extension',\n",
       " 'Command line interface',\n",
       " 'Clojure',\n",
       " 'Code quality',\n",
       " 'Code review',\n",
       " 'Compiler',\n",
       " 'Continuous integration',\n",
       " 'COVID-19',\n",
       " 'C++']"
      ]
     },
     "execution_count": 9,
     "metadata": {},
     "output_type": "execute_result"
    }
   ],
   "source": [
    "title_all = []\n",
    "for i in title:\n",
    "    title_all.append(i.text)\n",
    "    \n",
    "title_all"
   ]
  },
  {
   "cell_type": "code",
   "execution_count": 10,
   "id": "7e42529c",
   "metadata": {
    "scrolled": true
   },
   "outputs": [
    {
     "data": {
      "text/plain": [
       "[<p class=\"f5 color-fg-muted mb-0 mt-1\">\n",
       "           3D refers to the use of three-dimensional graphics, modeling, and animation in various industries.\n",
       "         </p>,\n",
       " <p class=\"f5 color-fg-muted mb-0 mt-1\">\n",
       "           Ajax is a technique for creating interactive web applications.\n",
       "         </p>,\n",
       " <p class=\"f5 color-fg-muted mb-0 mt-1\">\n",
       "           Algorithms are self-contained sequences that carry out a variety of tasks.\n",
       "         </p>,\n",
       " <p class=\"f5 color-fg-muted mb-0 mt-1\">\n",
       "           Amp is a non-blocking concurrency library for PHP.\n",
       "         </p>,\n",
       " <p class=\"f5 color-fg-muted mb-0 mt-1\">\n",
       "           Android is an operating system built by Google designed for mobile devices.\n",
       "         </p>]"
      ]
     },
     "execution_count": 10,
     "metadata": {},
     "output_type": "execute_result"
    }
   ],
   "source": [
    "context = soup.find_all('p',class_ = 'f5 color-fg-muted mb-0 mt-1')\n",
    "context[0:5]"
   ]
  },
  {
   "cell_type": "code",
   "execution_count": 11,
   "id": "432b2887",
   "metadata": {},
   "outputs": [
    {
     "data": {
      "text/plain": [
       "['3D refers to the use of three-dimensional graphics, modeling, and animation in various industries.',\n",
       " 'Ajax is a technique for creating interactive web applications.',\n",
       " 'Algorithms are self-contained sequences that carry out a variety of tasks.',\n",
       " 'Amp is a non-blocking concurrency library for PHP.',\n",
       " 'Android is an operating system built by Google designed for mobile devices.',\n",
       " 'Angular is an open source web application platform.',\n",
       " 'Ansible is a simple and powerful automation engine.',\n",
       " 'An API (Application Programming Interface) is a collection of protocols and subroutines for building software.',\n",
       " 'Arduino is an open source platform for building electronic devices.',\n",
       " 'ASP.NET is a web framework for building modern web apps and services.',\n",
       " 'Atom is a open source text editor built with web technologies.',\n",
       " 'An awesome list is a list of awesome things curated by the community.',\n",
       " 'Amazon Web Services provides on-demand cloud computing platforms on a subscription basis.',\n",
       " 'Azure is a cloud computing service created by Microsoft.',\n",
       " 'Babel is a compiler for writing next generation JavaScript, today.',\n",
       " 'Bash is a shell and command language interpreter for the GNU operating system.',\n",
       " 'Bitcoin is a cryptocurrency developed by Satoshi Nakamoto.',\n",
       " 'Bootstrap is an HTML, CSS, and JavaScript framework.',\n",
       " 'A bot is an application that runs automated tasks over the Internet.',\n",
       " 'C is a general purpose programming language that first appeared in 1972.',\n",
       " 'Chrome is a web browser from the tech company Google.',\n",
       " 'Chrome extensions enable users to customize the Chrome browsing experience.',\n",
       " 'A CLI, or command-line interface, is a console that helps users issue commands to a program.',\n",
       " 'Clojure is a dynamic, general-purpose programming language.',\n",
       " 'Automate your code review with style, quality, security, and test‑coverage checks when you need them.',\n",
       " 'Ensure your code meets quality standards and ship with confidence.',\n",
       " 'Compilers are software that translate higher-level programming languages to lower-level languages (e.g. machine code).',\n",
       " 'Automatically build and test your code as you push it upstream, preventing bugs from being deployed to production.',\n",
       " 'The coronavirus disease 2019 (COVID-19) is an infectious disease caused by SARS-CoV-2.',\n",
       " 'C++ is a general purpose and object-oriented programming language.']"
      ]
     },
     "execution_count": 11,
     "metadata": {},
     "output_type": "execute_result"
    }
   ],
   "source": [
    "context_all = []\n",
    "for i in context:\n",
    "    context_all.append(i.text.strip())\n",
    "    \n",
    "context_all"
   ]
  },
  {
   "cell_type": "code",
   "execution_count": 12,
   "id": "bd21290f",
   "metadata": {},
   "outputs": [
    {
     "data": {
      "text/plain": [
       "'https://github.com/topics/3d'"
      ]
     },
     "execution_count": 12,
     "metadata": {},
     "output_type": "execute_result"
    }
   ],
   "source": [
    "all_links = soup.find_all('a',class_ = 'no-underline flex-1 d-flex flex-column')\n",
    "\"https://github.com\" + all_links[0]['href']"
   ]
  },
  {
   "cell_type": "code",
   "execution_count": 13,
   "id": "fdef8f7a",
   "metadata": {},
   "outputs": [
    {
     "data": {
      "text/plain": [
       "['https://github.com/topics/3d',\n",
       " 'https://github.com/topics/ajax',\n",
       " 'https://github.com/topics/algorithm',\n",
       " 'https://github.com/topics/amphp',\n",
       " 'https://github.com/topics/android',\n",
       " 'https://github.com/topics/angular',\n",
       " 'https://github.com/topics/ansible',\n",
       " 'https://github.com/topics/api',\n",
       " 'https://github.com/topics/arduino',\n",
       " 'https://github.com/topics/aspnet',\n",
       " 'https://github.com/topics/atom',\n",
       " 'https://github.com/topics/awesome',\n",
       " 'https://github.com/topics/aws',\n",
       " 'https://github.com/topics/azure',\n",
       " 'https://github.com/topics/babel',\n",
       " 'https://github.com/topics/bash',\n",
       " 'https://github.com/topics/bitcoin',\n",
       " 'https://github.com/topics/bootstrap',\n",
       " 'https://github.com/topics/bot',\n",
       " 'https://github.com/topics/c',\n",
       " 'https://github.com/topics/chrome',\n",
       " 'https://github.com/topics/chrome-extension',\n",
       " 'https://github.com/topics/cli',\n",
       " 'https://github.com/topics/clojure',\n",
       " 'https://github.com/topics/code-quality',\n",
       " 'https://github.com/topics/code-review',\n",
       " 'https://github.com/topics/compiler',\n",
       " 'https://github.com/topics/continuous-integration',\n",
       " 'https://github.com/topics/covid-19',\n",
       " 'https://github.com/topics/cpp']"
      ]
     },
     "execution_count": 13,
     "metadata": {},
     "output_type": "execute_result"
    }
   ],
   "source": [
    "links_all = []\n",
    "start = \"https://github.com\"\n",
    "for i in all_links:\n",
    "    links_all.append(start + i['href'])\n",
    "\n",
    "links_all"
   ]
  },
  {
   "cell_type": "code",
   "execution_count": 14,
   "id": "564f1bc2",
   "metadata": {},
   "outputs": [
    {
     "name": "stdout",
     "output_type": "stream",
     "text": [
      "Length of DataFrame :  30\n"
     ]
    }
   ],
   "source": [
    "#Creating Pandas DataFrame\n",
    "import pandas as pd\n",
    "\n",
    "df = pd.DataFrame({\"Title\" :title_all,\n",
    "                   \"Context\" : context_all,\n",
    "                   \"Link\" : links_all\n",
    "                  })\n",
    "print(\"Length of DataFrame : \",len(df))"
   ]
  },
  {
   "cell_type": "code",
   "execution_count": 15,
   "id": "074d3eb1",
   "metadata": {},
   "outputs": [
    {
     "data": {
      "text/html": [
       "<div>\n",
       "<style scoped>\n",
       "    .dataframe tbody tr th:only-of-type {\n",
       "        vertical-align: middle;\n",
       "    }\n",
       "\n",
       "    .dataframe tbody tr th {\n",
       "        vertical-align: top;\n",
       "    }\n",
       "\n",
       "    .dataframe thead th {\n",
       "        text-align: right;\n",
       "    }\n",
       "</style>\n",
       "<table border=\"1\" class=\"dataframe\">\n",
       "  <thead>\n",
       "    <tr style=\"text-align: right;\">\n",
       "      <th></th>\n",
       "      <th>Title</th>\n",
       "      <th>Context</th>\n",
       "      <th>Link</th>\n",
       "    </tr>\n",
       "  </thead>\n",
       "  <tbody>\n",
       "    <tr>\n",
       "      <th>0</th>\n",
       "      <td>3D</td>\n",
       "      <td>3D refers to the use of three-dimensional grap...</td>\n",
       "      <td>https://github.com/topics/3d</td>\n",
       "    </tr>\n",
       "    <tr>\n",
       "      <th>1</th>\n",
       "      <td>Ajax</td>\n",
       "      <td>Ajax is a technique for creating interactive w...</td>\n",
       "      <td>https://github.com/topics/ajax</td>\n",
       "    </tr>\n",
       "    <tr>\n",
       "      <th>2</th>\n",
       "      <td>Algorithm</td>\n",
       "      <td>Algorithms are self-contained sequences that c...</td>\n",
       "      <td>https://github.com/topics/algorithm</td>\n",
       "    </tr>\n",
       "    <tr>\n",
       "      <th>3</th>\n",
       "      <td>Amp</td>\n",
       "      <td>Amp is a non-blocking concurrency library for ...</td>\n",
       "      <td>https://github.com/topics/amphp</td>\n",
       "    </tr>\n",
       "    <tr>\n",
       "      <th>4</th>\n",
       "      <td>Android</td>\n",
       "      <td>Android is an operating system built by Google...</td>\n",
       "      <td>https://github.com/topics/android</td>\n",
       "    </tr>\n",
       "  </tbody>\n",
       "</table>\n",
       "</div>"
      ],
      "text/plain": [
       "       Title                                            Context  \\\n",
       "0         3D  3D refers to the use of three-dimensional grap...   \n",
       "1       Ajax  Ajax is a technique for creating interactive w...   \n",
       "2  Algorithm  Algorithms are self-contained sequences that c...   \n",
       "3        Amp  Amp is a non-blocking concurrency library for ...   \n",
       "4    Android  Android is an operating system built by Google...   \n",
       "\n",
       "                                  Link  \n",
       "0         https://github.com/topics/3d  \n",
       "1       https://github.com/topics/ajax  \n",
       "2  https://github.com/topics/algorithm  \n",
       "3      https://github.com/topics/amphp  \n",
       "4    https://github.com/topics/android  "
      ]
     },
     "execution_count": 15,
     "metadata": {},
     "output_type": "execute_result"
    }
   ],
   "source": [
    "df.head()"
   ]
  },
  {
   "cell_type": "code",
   "execution_count": 16,
   "id": "59532872",
   "metadata": {},
   "outputs": [],
   "source": [
    "df.to_csv(\"topics.csv\",index=None)"
   ]
  },
  {
   "cell_type": "markdown",
   "id": "98a2f02c",
   "metadata": {},
   "source": [
    "## Extracting Data from csv"
   ]
  },
  {
   "cell_type": "code",
   "execution_count": 17,
   "id": "dfaa5969",
   "metadata": {},
   "outputs": [],
   "source": [
    "topic_url = links_all[0]"
   ]
  },
  {
   "cell_type": "code",
   "execution_count": 18,
   "id": "20935777",
   "metadata": {},
   "outputs": [
    {
     "data": {
      "text/plain": [
       "'https://github.com/topics/3d'"
      ]
     },
     "execution_count": 18,
     "metadata": {},
     "output_type": "execute_result"
    }
   ],
   "source": [
    "topic_url"
   ]
  },
  {
   "cell_type": "code",
   "execution_count": 19,
   "id": "2a898177",
   "metadata": {},
   "outputs": [],
   "source": [
    "response = requests.get(topic_url)"
   ]
  },
  {
   "cell_type": "code",
   "execution_count": 20,
   "id": "027f029f",
   "metadata": {},
   "outputs": [
    {
     "data": {
      "text/plain": [
       "200"
      ]
     },
     "execution_count": 20,
     "metadata": {},
     "output_type": "execute_result"
    }
   ],
   "source": [
    "response.status_code"
   ]
  },
  {
   "cell_type": "code",
   "execution_count": 21,
   "id": "835ac15f",
   "metadata": {},
   "outputs": [
    {
     "data": {
      "text/plain": [
       "476395"
      ]
     },
     "execution_count": 21,
     "metadata": {},
     "output_type": "execute_result"
    }
   ],
   "source": [
    "len(response.text)"
   ]
  },
  {
   "cell_type": "code",
   "execution_count": 22,
   "id": "3d1d7ac8",
   "metadata": {},
   "outputs": [],
   "source": [
    "topic_doc = BeautifulSoup(response.text,\"html.parser\")"
   ]
  },
  {
   "cell_type": "code",
   "execution_count": 23,
   "id": "b1888917",
   "metadata": {},
   "outputs": [
    {
     "data": {
      "text/plain": [
       "'<!DOCTYPE html>\\n<html data-a11y-animated-images=\"system\" data-a11y-link-underlines=\"false\" data-color-mode=\"auto\" data-dark-theme=\"dark\" data-light-theme=\"light\" lang=\"en\">\\n <head>\\n  <meta charset=\"utf-8\"/>\\n  <link href=\"https://github.githubassets.com\" rel=\"dns-prefetch\"/>\\n  <link href=\"https://avatars.githubusercontent.com\" rel=\"dns-prefetch\"/>\\n  <link href=\"https://github-cloud.s3.amazonaws.com\" rel=\"dns-prefetch\"/>\\n  <link href=\"https://user-images.githubusercontent.com/\" rel=\"dns-prefetch\"/'"
      ]
     },
     "execution_count": 23,
     "metadata": {},
     "output_type": "execute_result"
    }
   ],
   "source": [
    "topic_doc.prettify()[:500]"
   ]
  },
  {
   "cell_type": "code",
   "execution_count": 24,
   "id": "8d385b3a",
   "metadata": {},
   "outputs": [],
   "source": [
    "repo_info = topic_doc.find_all('h3',class_='f3 color-fg-muted text-normal lh-condensed')"
   ]
  },
  {
   "cell_type": "code",
   "execution_count": 25,
   "id": "78c2138f",
   "metadata": {},
   "outputs": [
    {
     "data": {
      "text/plain": [
       "[<a class=\"Link\" data-hydro-click='{\"event_type\":\"explore.click\",\"payload\":{\"click_context\":\"REPOSITORY_CARD\",\"click_target\":\"OWNER\",\"click_visual_representation\":\"REPOSITORY_OWNER_HEADING\",\"actor_id\":null,\"record_id\":97088,\"originating_url\":\"https://github.com/topics/3d\",\"user_id\":null}}' data-hydro-click-hmac=\"4bdbc49d3c05ae7f70b531fbce709a384200b0768554e0172950286a8db30940\" data-turbo=\"false\" data-view-component=\"true\" href=\"/mrdoob\">\n",
       "             mrdoob\n",
       " </a>,\n",
       " <a class=\"Link text-bold wb-break-word\" data-hydro-click='{\"event_type\":\"explore.click\",\"payload\":{\"click_context\":\"REPOSITORY_CARD\",\"click_target\":\"REPOSITORY\",\"click_visual_representation\":\"REPOSITORY_NAME_HEADING\",\"actor_id\":null,\"record_id\":576201,\"originating_url\":\"https://github.com/topics/3d\",\"user_id\":null}}' data-hydro-click-hmac=\"517d3d5cb9d89752156923904a4238816bc9b51ab7772f3e3644ce897d8dd4e5\" data-turbo=\"false\" data-view-component=\"true\" href=\"/mrdoob/three.js\">\n",
       "             three.js\n",
       " </a>]"
      ]
     },
     "execution_count": 25,
     "metadata": {},
     "output_type": "execute_result"
    }
   ],
   "source": [
    "single_repo_info = repo_info[0].find_all('a')\n",
    "single_repo_info"
   ]
  },
  {
   "cell_type": "code",
   "execution_count": 26,
   "id": "998895f0",
   "metadata": {},
   "outputs": [
    {
     "data": {
      "text/plain": [
       "'mrdoob'"
      ]
     },
     "execution_count": 26,
     "metadata": {},
     "output_type": "execute_result"
    }
   ],
   "source": [
    "single_repo_username = single_repo_info[0].text.strip()\n",
    "single_repo_username"
   ]
  },
  {
   "cell_type": "code",
   "execution_count": 27,
   "id": "407183f7",
   "metadata": {},
   "outputs": [
    {
     "data": {
      "text/plain": [
       "'https://www.github.com/mrdoob/three.js'"
      ]
     },
     "execution_count": 27,
     "metadata": {},
     "output_type": "execute_result"
    }
   ],
   "source": [
    "single_repo_url = \"https://www.github.com\" + single_repo_info[1]['href']\n",
    "single_repo_url"
   ]
  },
  {
   "cell_type": "code",
   "execution_count": 28,
   "id": "2f43cb2e",
   "metadata": {},
   "outputs": [
    {
     "data": {
      "text/plain": [
       "'three.js'"
      ]
     },
     "execution_count": 28,
     "metadata": {},
     "output_type": "execute_result"
    }
   ],
   "source": [
    "single_repo_name = single_repo_info[1].text.strip()\n",
    "single_repo_name"
   ]
  },
  {
   "cell_type": "code",
   "execution_count": 29,
   "id": "315c986a",
   "metadata": {},
   "outputs": [],
   "source": [
    "stars_info = topic_doc.find_all('span',class_='Counter js-social-count')"
   ]
  },
  {
   "cell_type": "code",
   "execution_count": 30,
   "id": "22bc3056",
   "metadata": {},
   "outputs": [
    {
     "data": {
      "text/plain": [
       "'93.7k'"
      ]
     },
     "execution_count": 30,
     "metadata": {},
     "output_type": "execute_result"
    }
   ],
   "source": [
    "stars_info[0].text"
   ]
  },
  {
   "cell_type": "code",
   "execution_count": 31,
   "id": "837e413b",
   "metadata": {},
   "outputs": [
    {
     "data": {
      "text/plain": [
       "93700"
      ]
     },
     "execution_count": 31,
     "metadata": {},
     "output_type": "execute_result"
    }
   ],
   "source": [
    "#Creating a function to convert this to integer\n",
    "def str_to_int(inputstr):\n",
    "    inputstr = inputstr.strip()\n",
    "    if inputstr[-1] == 'k':\n",
    "        return int(float(inputstr[:-1]) *1000)\n",
    "    return int(inputstr)\n",
    "\n",
    "str_to_int(stars_info[0].text)"
   ]
  },
  {
   "cell_type": "code",
   "execution_count": 32,
   "id": "47482354",
   "metadata": {},
   "outputs": [],
   "source": [
    "a = '93.7k'"
   ]
  },
  {
   "cell_type": "code",
   "execution_count": 33,
   "id": "ecdab185",
   "metadata": {},
   "outputs": [
    {
     "data": {
      "text/plain": [
       "'k'"
      ]
     },
     "execution_count": 33,
     "metadata": {},
     "output_type": "execute_result"
    }
   ],
   "source": [
    "a[-1]"
   ]
  },
  {
   "cell_type": "code",
   "execution_count": 34,
   "id": "9dfaa295",
   "metadata": {},
   "outputs": [
    {
     "data": {
      "text/plain": [
       "'93.7'"
      ]
     },
     "execution_count": 34,
     "metadata": {},
     "output_type": "execute_result"
    }
   ],
   "source": [
    "a[:-1]"
   ]
  },
  {
   "cell_type": "code",
   "execution_count": 35,
   "id": "8667c086",
   "metadata": {},
   "outputs": [
    {
     "data": {
      "text/plain": [
       "93.7"
      ]
     },
     "execution_count": 35,
     "metadata": {},
     "output_type": "execute_result"
    }
   ],
   "source": [
    "float(a[:-1])"
   ]
  },
  {
   "cell_type": "code",
   "execution_count": 36,
   "id": "a683f85b",
   "metadata": {
    "scrolled": true
   },
   "outputs": [
    {
     "data": {
      "text/plain": [
       "93700"
      ]
     },
     "execution_count": 36,
     "metadata": {},
     "output_type": "execute_result"
    }
   ],
   "source": [
    "int(float(a[:-1])*1000)"
   ]
  },
  {
   "cell_type": "code",
   "execution_count": 37,
   "id": "8eb7ecb1",
   "metadata": {},
   "outputs": [],
   "source": [
    "#Creating a function to get repo info along with the star tag\n",
    "def get_repo_info(repo_information,star_tag):\n",
    "        a_tags = repo_information.find_all('a')\n",
    "        username = a_tags[0].text.strip()\n",
    "        reponame = a_tags[1].text.strip()\n",
    "        repourl = \"https://www.github.com\" + a_tags[1]['href']\n",
    "        stars = str_to_int(star_tag.text)\n",
    "        return username,reponame,stars,repourl"
   ]
  },
  {
   "cell_type": "code",
   "execution_count": 38,
   "id": "caac9dd7",
   "metadata": {},
   "outputs": [
    {
     "data": {
      "text/plain": [
       "('mrdoob', 'three.js', 93700, 'https://www.github.com/mrdoob/three.js')"
      ]
     },
     "execution_count": 38,
     "metadata": {},
     "output_type": "execute_result"
    }
   ],
   "source": [
    "get_repo_info(repo_info[0],stars_info[0])"
   ]
  },
  {
   "cell_type": "code",
   "execution_count": 39,
   "id": "07624e2e",
   "metadata": {},
   "outputs": [],
   "source": [
    "topic_repo_dict = {\n",
    "    'username':[],\n",
    "    'reponame':[],\n",
    "    'repourl':[],\n",
    "    'stars':[]\n",
    "}\n",
    "\n",
    "for i in range(len(repo_info)):\n",
    "    repo_information = get_repo_info(repo_info[i],stars_info[i])\n",
    "    topic_repo_dict['username'].append(repo_information[0])\n",
    "    topic_repo_dict['reponame'].append(repo_information[1])\n",
    "    topic_repo_dict['repourl'].append(repo_information[3])\n",
    "    topic_repo_dict['stars'].append(repo_information[2])\n"
   ]
  },
  {
   "cell_type": "code",
   "execution_count": 40,
   "id": "29231fa5",
   "metadata": {},
   "outputs": [
    {
     "data": {
      "text/html": [
       "<div>\n",
       "<style scoped>\n",
       "    .dataframe tbody tr th:only-of-type {\n",
       "        vertical-align: middle;\n",
       "    }\n",
       "\n",
       "    .dataframe tbody tr th {\n",
       "        vertical-align: top;\n",
       "    }\n",
       "\n",
       "    .dataframe thead th {\n",
       "        text-align: right;\n",
       "    }\n",
       "</style>\n",
       "<table border=\"1\" class=\"dataframe\">\n",
       "  <thead>\n",
       "    <tr style=\"text-align: right;\">\n",
       "      <th></th>\n",
       "      <th>username</th>\n",
       "      <th>reponame</th>\n",
       "      <th>repourl</th>\n",
       "      <th>stars</th>\n",
       "    </tr>\n",
       "  </thead>\n",
       "  <tbody>\n",
       "    <tr>\n",
       "      <th>0</th>\n",
       "      <td>mrdoob</td>\n",
       "      <td>three.js</td>\n",
       "      <td>https://www.github.com/mrdoob/three.js</td>\n",
       "      <td>93700</td>\n",
       "    </tr>\n",
       "    <tr>\n",
       "      <th>1</th>\n",
       "      <td>pmndrs</td>\n",
       "      <td>react-three-fiber</td>\n",
       "      <td>https://www.github.com/pmndrs/react-three-fiber</td>\n",
       "      <td>23400</td>\n",
       "    </tr>\n",
       "    <tr>\n",
       "      <th>2</th>\n",
       "      <td>libgdx</td>\n",
       "      <td>libgdx</td>\n",
       "      <td>https://www.github.com/libgdx/libgdx</td>\n",
       "      <td>21800</td>\n",
       "    </tr>\n",
       "    <tr>\n",
       "      <th>3</th>\n",
       "      <td>BabylonJS</td>\n",
       "      <td>Babylon.js</td>\n",
       "      <td>https://www.github.com/BabylonJS/Babylon.js</td>\n",
       "      <td>21100</td>\n",
       "    </tr>\n",
       "    <tr>\n",
       "      <th>4</th>\n",
       "      <td>ssloy</td>\n",
       "      <td>tinyrenderer</td>\n",
       "      <td>https://www.github.com/ssloy/tinyrenderer</td>\n",
       "      <td>17600</td>\n",
       "    </tr>\n",
       "    <tr>\n",
       "      <th>5</th>\n",
       "      <td>lettier</td>\n",
       "      <td>3d-game-shaders-for-beginners</td>\n",
       "      <td>https://www.github.com/lettier/3d-game-shaders...</td>\n",
       "      <td>15800</td>\n",
       "    </tr>\n",
       "    <tr>\n",
       "      <th>6</th>\n",
       "      <td>aframevr</td>\n",
       "      <td>aframe</td>\n",
       "      <td>https://www.github.com/aframevr/aframe</td>\n",
       "      <td>15600</td>\n",
       "    </tr>\n",
       "    <tr>\n",
       "      <th>7</th>\n",
       "      <td>FreeCAD</td>\n",
       "      <td>FreeCAD</td>\n",
       "      <td>https://www.github.com/FreeCAD/FreeCAD</td>\n",
       "      <td>14700</td>\n",
       "    </tr>\n",
       "    <tr>\n",
       "      <th>8</th>\n",
       "      <td>CesiumGS</td>\n",
       "      <td>cesium</td>\n",
       "      <td>https://www.github.com/CesiumGS/cesium</td>\n",
       "      <td>10800</td>\n",
       "    </tr>\n",
       "    <tr>\n",
       "      <th>9</th>\n",
       "      <td>metafizzy</td>\n",
       "      <td>zdog</td>\n",
       "      <td>https://www.github.com/metafizzy/zdog</td>\n",
       "      <td>10000</td>\n",
       "    </tr>\n",
       "    <tr>\n",
       "      <th>10</th>\n",
       "      <td>isl-org</td>\n",
       "      <td>Open3D</td>\n",
       "      <td>https://www.github.com/isl-org/Open3D</td>\n",
       "      <td>9300</td>\n",
       "    </tr>\n",
       "    <tr>\n",
       "      <th>11</th>\n",
       "      <td>blender</td>\n",
       "      <td>blender</td>\n",
       "      <td>https://www.github.com/blender/blender</td>\n",
       "      <td>9100</td>\n",
       "    </tr>\n",
       "    <tr>\n",
       "      <th>12</th>\n",
       "      <td>timzhang642</td>\n",
       "      <td>3D-Machine-Learning</td>\n",
       "      <td>https://www.github.com/timzhang642/3D-Machine-...</td>\n",
       "      <td>9000</td>\n",
       "    </tr>\n",
       "    <tr>\n",
       "      <th>13</th>\n",
       "      <td>a1studmuffin</td>\n",
       "      <td>SpaceshipGenerator</td>\n",
       "      <td>https://www.github.com/a1studmuffin/SpaceshipG...</td>\n",
       "      <td>7400</td>\n",
       "    </tr>\n",
       "    <tr>\n",
       "      <th>14</th>\n",
       "      <td>domlysz</td>\n",
       "      <td>BlenderGIS</td>\n",
       "      <td>https://www.github.com/domlysz/BlenderGIS</td>\n",
       "      <td>6600</td>\n",
       "    </tr>\n",
       "    <tr>\n",
       "      <th>15</th>\n",
       "      <td>FyroxEngine</td>\n",
       "      <td>Fyrox</td>\n",
       "      <td>https://www.github.com/FyroxEngine/Fyrox</td>\n",
       "      <td>6400</td>\n",
       "    </tr>\n",
       "    <tr>\n",
       "      <th>16</th>\n",
       "      <td>nerfstudio-project</td>\n",
       "      <td>nerfstudio</td>\n",
       "      <td>https://www.github.com/nerfstudio-project/nerf...</td>\n",
       "      <td>6100</td>\n",
       "    </tr>\n",
       "    <tr>\n",
       "      <th>17</th>\n",
       "      <td>google</td>\n",
       "      <td>model-viewer</td>\n",
       "      <td>https://www.github.com/google/model-viewer</td>\n",
       "      <td>5800</td>\n",
       "    </tr>\n",
       "    <tr>\n",
       "      <th>18</th>\n",
       "      <td>openscad</td>\n",
       "      <td>openscad</td>\n",
       "      <td>https://www.github.com/openscad/openscad</td>\n",
       "      <td>5800</td>\n",
       "    </tr>\n",
       "    <tr>\n",
       "      <th>19</th>\n",
       "      <td>spritejs</td>\n",
       "      <td>spritejs</td>\n",
       "      <td>https://www.github.com/spritejs/spritejs</td>\n",
       "      <td>5200</td>\n",
       "    </tr>\n",
       "  </tbody>\n",
       "</table>\n",
       "</div>"
      ],
      "text/plain": [
       "              username                       reponame  \\\n",
       "0               mrdoob                       three.js   \n",
       "1               pmndrs              react-three-fiber   \n",
       "2               libgdx                         libgdx   \n",
       "3            BabylonJS                     Babylon.js   \n",
       "4                ssloy                   tinyrenderer   \n",
       "5              lettier  3d-game-shaders-for-beginners   \n",
       "6             aframevr                         aframe   \n",
       "7              FreeCAD                        FreeCAD   \n",
       "8             CesiumGS                         cesium   \n",
       "9            metafizzy                           zdog   \n",
       "10             isl-org                         Open3D   \n",
       "11             blender                        blender   \n",
       "12         timzhang642            3D-Machine-Learning   \n",
       "13        a1studmuffin             SpaceshipGenerator   \n",
       "14             domlysz                     BlenderGIS   \n",
       "15         FyroxEngine                          Fyrox   \n",
       "16  nerfstudio-project                     nerfstudio   \n",
       "17              google                   model-viewer   \n",
       "18            openscad                       openscad   \n",
       "19            spritejs                       spritejs   \n",
       "\n",
       "                                              repourl  stars  \n",
       "0              https://www.github.com/mrdoob/three.js  93700  \n",
       "1     https://www.github.com/pmndrs/react-three-fiber  23400  \n",
       "2                https://www.github.com/libgdx/libgdx  21800  \n",
       "3         https://www.github.com/BabylonJS/Babylon.js  21100  \n",
       "4           https://www.github.com/ssloy/tinyrenderer  17600  \n",
       "5   https://www.github.com/lettier/3d-game-shaders...  15800  \n",
       "6              https://www.github.com/aframevr/aframe  15600  \n",
       "7              https://www.github.com/FreeCAD/FreeCAD  14700  \n",
       "8              https://www.github.com/CesiumGS/cesium  10800  \n",
       "9               https://www.github.com/metafizzy/zdog  10000  \n",
       "10              https://www.github.com/isl-org/Open3D   9300  \n",
       "11             https://www.github.com/blender/blender   9100  \n",
       "12  https://www.github.com/timzhang642/3D-Machine-...   9000  \n",
       "13  https://www.github.com/a1studmuffin/SpaceshipG...   7400  \n",
       "14          https://www.github.com/domlysz/BlenderGIS   6600  \n",
       "15           https://www.github.com/FyroxEngine/Fyrox   6400  \n",
       "16  https://www.github.com/nerfstudio-project/nerf...   6100  \n",
       "17         https://www.github.com/google/model-viewer   5800  \n",
       "18           https://www.github.com/openscad/openscad   5800  \n",
       "19           https://www.github.com/spritejs/spritejs   5200  "
      ]
     },
     "execution_count": 40,
     "metadata": {},
     "output_type": "execute_result"
    }
   ],
   "source": [
    "df1 = pd.DataFrame(topic_repo_dict)\n",
    "df1"
   ]
  },
  {
   "cell_type": "code",
   "execution_count": 41,
   "id": "fefaa528",
   "metadata": {},
   "outputs": [],
   "source": [
    "#This for 1 topic now we needd for all the urls\n",
    "#Creating a function using the above steps\n",
    "def str_to_int(inputstr):\n",
    "    inputstr = inputstr.strip()\n",
    "    if inputstr[-1] == 'k':\n",
    "        return int(float(inputstr[:-1]) *1000)\n",
    "    return int(inputstr)\n",
    "\n",
    "def get_repo_info(repo_information,star_tag):\n",
    "        a_tags = repo_information.find_all('a')\n",
    "        username = a_tags[0].text.strip()\n",
    "        reponame = a_tags[1].text.strip()\n",
    "        repourl = \"https://www.github.com\" + a_tags[1]['href']\n",
    "        stars = str_to_int(star_tag.text)\n",
    "        return username,reponame,stars,repourl\n",
    "\n",
    "\n",
    "def get_topic_repos(topic_url):\n",
    "    response = requests.get(topic_url)\n",
    "    if response.status_code !=200:\n",
    "        raise Exception (f\"Failed to Load Page : {topic_url}\")\n",
    "            \n",
    "    else:        \n",
    "        topicwise_doc = BeautifulSoup(response.text,\"html.parser\")\n",
    "        repo_info = topicwise_doc.find_all('h3',class_='f3 color-fg-muted text-normal lh-condensed')\n",
    "        stars_info = topicwise_doc.find_all('span',class_='Counter js-social-count')\n",
    "    \n",
    "        topic_repo_dict = {'username':[],'reponame':[],'repourl':[],'stars':[] }\n",
    "\n",
    "        for i in range(len(repo_info)):\n",
    "            repo_information = get_repo_info(repo_info[i],stars_info[i])\n",
    "            topic_repo_dict['username'].append(repo_information[0])\n",
    "            topic_repo_dict['reponame'].append(repo_information[1])\n",
    "            topic_repo_dict['repourl'].append(repo_information[3])\n",
    "            topic_repo_dict['stars'].append(repo_information[2])\n",
    "    df = pd.DataFrame(topic_repo_dict)\n",
    "    return df\n"
   ]
  },
  {
   "cell_type": "code",
   "execution_count": 42,
   "id": "2c512811",
   "metadata": {},
   "outputs": [
    {
     "data": {
      "text/plain": [
       "'https://github.com/topics/ajax'"
      ]
     },
     "execution_count": 42,
     "metadata": {},
     "output_type": "execute_result"
    }
   ],
   "source": [
    "links_all[1]"
   ]
  },
  {
   "cell_type": "code",
   "execution_count": 43,
   "id": "6bd58eb7",
   "metadata": {},
   "outputs": [
    {
     "data": {
      "text/html": [
       "<div>\n",
       "<style scoped>\n",
       "    .dataframe tbody tr th:only-of-type {\n",
       "        vertical-align: middle;\n",
       "    }\n",
       "\n",
       "    .dataframe tbody tr th {\n",
       "        vertical-align: top;\n",
       "    }\n",
       "\n",
       "    .dataframe thead th {\n",
       "        text-align: right;\n",
       "    }\n",
       "</style>\n",
       "<table border=\"1\" class=\"dataframe\">\n",
       "  <thead>\n",
       "    <tr style=\"text-align: right;\">\n",
       "      <th></th>\n",
       "      <th>username</th>\n",
       "      <th>reponame</th>\n",
       "      <th>repourl</th>\n",
       "      <th>stars</th>\n",
       "    </tr>\n",
       "  </thead>\n",
       "  <tbody>\n",
       "    <tr>\n",
       "      <th>0</th>\n",
       "      <td>ljianshu</td>\n",
       "      <td>Blog</td>\n",
       "      <td>https://www.github.com/ljianshu/Blog</td>\n",
       "      <td>7700</td>\n",
       "    </tr>\n",
       "    <tr>\n",
       "      <th>1</th>\n",
       "      <td>metafizzy</td>\n",
       "      <td>infinite-scroll</td>\n",
       "      <td>https://www.github.com/metafizzy/infinite-scroll</td>\n",
       "      <td>7300</td>\n",
       "    </tr>\n",
       "    <tr>\n",
       "      <th>2</th>\n",
       "      <td>developit</td>\n",
       "      <td>unfetch</td>\n",
       "      <td>https://www.github.com/developit/unfetch</td>\n",
       "      <td>5600</td>\n",
       "    </tr>\n",
       "    <tr>\n",
       "      <th>3</th>\n",
       "      <td>olifolkerd</td>\n",
       "      <td>tabulator</td>\n",
       "      <td>https://www.github.com/olifolkerd/tabulator</td>\n",
       "      <td>5600</td>\n",
       "    </tr>\n",
       "    <tr>\n",
       "      <th>4</th>\n",
       "      <td>jquery-form</td>\n",
       "      <td>form</td>\n",
       "      <td>https://www.github.com/jquery-form/form</td>\n",
       "      <td>5200</td>\n",
       "    </tr>\n",
       "    <tr>\n",
       "      <th>5</th>\n",
       "      <td>Studio-42</td>\n",
       "      <td>elFinder</td>\n",
       "      <td>https://www.github.com/Studio-42/elFinder</td>\n",
       "      <td>4500</td>\n",
       "    </tr>\n",
       "    <tr>\n",
       "      <th>6</th>\n",
       "      <td>elbywan</td>\n",
       "      <td>wretch</td>\n",
       "      <td>https://www.github.com/elbywan/wretch</td>\n",
       "      <td>4100</td>\n",
       "    </tr>\n",
       "    <tr>\n",
       "      <th>7</th>\n",
       "      <td>dwyl</td>\n",
       "      <td>learn-to-send-email-via-google-script-html-no-...</td>\n",
       "      <td>https://www.github.com/dwyl/learn-to-send-emai...</td>\n",
       "      <td>3000</td>\n",
       "    </tr>\n",
       "    <tr>\n",
       "      <th>8</th>\n",
       "      <td>ded</td>\n",
       "      <td>reqwest</td>\n",
       "      <td>https://www.github.com/ded/reqwest</td>\n",
       "      <td>2900</td>\n",
       "    </tr>\n",
       "    <tr>\n",
       "      <th>9</th>\n",
       "      <td>wendux</td>\n",
       "      <td>ajax-hook</td>\n",
       "      <td>https://www.github.com/wendux/ajax-hook</td>\n",
       "      <td>2400</td>\n",
       "    </tr>\n",
       "    <tr>\n",
       "      <th>10</th>\n",
       "      <td>LeaVerou</td>\n",
       "      <td>bliss</td>\n",
       "      <td>https://www.github.com/LeaVerou/bliss</td>\n",
       "      <td>2400</td>\n",
       "    </tr>\n",
       "    <tr>\n",
       "      <th>11</th>\n",
       "      <td>noelboss</td>\n",
       "      <td>featherlight</td>\n",
       "      <td>https://www.github.com/noelboss/featherlight</td>\n",
       "      <td>2100</td>\n",
       "    </tr>\n",
       "    <tr>\n",
       "      <th>12</th>\n",
       "      <td>craftpip</td>\n",
       "      <td>jquery-confirm</td>\n",
       "      <td>https://www.github.com/craftpip/jquery-confirm</td>\n",
       "      <td>1800</td>\n",
       "    </tr>\n",
       "    <tr>\n",
       "      <th>13</th>\n",
       "      <td>taoensso</td>\n",
       "      <td>sente</td>\n",
       "      <td>https://www.github.com/taoensso/sente</td>\n",
       "      <td>1700</td>\n",
       "    </tr>\n",
       "    <tr>\n",
       "      <th>14</th>\n",
       "      <td>nette</td>\n",
       "      <td>tracy</td>\n",
       "      <td>https://www.github.com/nette/tracy</td>\n",
       "      <td>1700</td>\n",
       "    </tr>\n",
       "    <tr>\n",
       "      <th>15</th>\n",
       "      <td>loadingio</td>\n",
       "      <td>css-spinner</td>\n",
       "      <td>https://www.github.com/loadingio/css-spinner</td>\n",
       "      <td>1600</td>\n",
       "    </tr>\n",
       "    <tr>\n",
       "      <th>16</th>\n",
       "      <td>joaomilho</td>\n",
       "      <td>Enterprise</td>\n",
       "      <td>https://www.github.com/joaomilho/Enterprise</td>\n",
       "      <td>1600</td>\n",
       "    </tr>\n",
       "    <tr>\n",
       "      <th>17</th>\n",
       "      <td>k8w</td>\n",
       "      <td>tsrpc</td>\n",
       "      <td>https://www.github.com/k8w/tsrpc</td>\n",
       "      <td>1600</td>\n",
       "    </tr>\n",
       "    <tr>\n",
       "      <th>18</th>\n",
       "      <td>codingforentrepreneurs</td>\n",
       "      <td>eCommerce</td>\n",
       "      <td>https://www.github.com/codingforentrepreneurs/...</td>\n",
       "      <td>1400</td>\n",
       "    </tr>\n",
       "    <tr>\n",
       "      <th>19</th>\n",
       "      <td>u014427391</td>\n",
       "      <td>jeeplatform</td>\n",
       "      <td>https://www.github.com/u014427391/jeeplatform</td>\n",
       "      <td>1400</td>\n",
       "    </tr>\n",
       "  </tbody>\n",
       "</table>\n",
       "</div>"
      ],
      "text/plain": [
       "                  username                                           reponame  \\\n",
       "0                 ljianshu                                               Blog   \n",
       "1                metafizzy                                    infinite-scroll   \n",
       "2                developit                                            unfetch   \n",
       "3               olifolkerd                                          tabulator   \n",
       "4              jquery-form                                               form   \n",
       "5                Studio-42                                           elFinder   \n",
       "6                  elbywan                                             wretch   \n",
       "7                     dwyl  learn-to-send-email-via-google-script-html-no-...   \n",
       "8                      ded                                            reqwest   \n",
       "9                   wendux                                          ajax-hook   \n",
       "10                LeaVerou                                              bliss   \n",
       "11                noelboss                                       featherlight   \n",
       "12                craftpip                                     jquery-confirm   \n",
       "13                taoensso                                              sente   \n",
       "14                   nette                                              tracy   \n",
       "15               loadingio                                        css-spinner   \n",
       "16               joaomilho                                         Enterprise   \n",
       "17                     k8w                                              tsrpc   \n",
       "18  codingforentrepreneurs                                          eCommerce   \n",
       "19              u014427391                                        jeeplatform   \n",
       "\n",
       "                                              repourl  stars  \n",
       "0                https://www.github.com/ljianshu/Blog   7700  \n",
       "1    https://www.github.com/metafizzy/infinite-scroll   7300  \n",
       "2            https://www.github.com/developit/unfetch   5600  \n",
       "3         https://www.github.com/olifolkerd/tabulator   5600  \n",
       "4             https://www.github.com/jquery-form/form   5200  \n",
       "5           https://www.github.com/Studio-42/elFinder   4500  \n",
       "6               https://www.github.com/elbywan/wretch   4100  \n",
       "7   https://www.github.com/dwyl/learn-to-send-emai...   3000  \n",
       "8                  https://www.github.com/ded/reqwest   2900  \n",
       "9             https://www.github.com/wendux/ajax-hook   2400  \n",
       "10              https://www.github.com/LeaVerou/bliss   2400  \n",
       "11       https://www.github.com/noelboss/featherlight   2100  \n",
       "12     https://www.github.com/craftpip/jquery-confirm   1800  \n",
       "13              https://www.github.com/taoensso/sente   1700  \n",
       "14                 https://www.github.com/nette/tracy   1700  \n",
       "15       https://www.github.com/loadingio/css-spinner   1600  \n",
       "16        https://www.github.com/joaomilho/Enterprise   1600  \n",
       "17                   https://www.github.com/k8w/tsrpc   1600  \n",
       "18  https://www.github.com/codingforentrepreneurs/...   1400  \n",
       "19      https://www.github.com/u014427391/jeeplatform   1400  "
      ]
     },
     "execution_count": 43,
     "metadata": {},
     "output_type": "execute_result"
    }
   ],
   "source": [
    "get_topic_repos(links_all[1])"
   ]
  },
  {
   "cell_type": "code",
   "execution_count": 44,
   "id": "51aef456",
   "metadata": {},
   "outputs": [
    {
     "data": {
      "text/html": [
       "<div>\n",
       "<style scoped>\n",
       "    .dataframe tbody tr th:only-of-type {\n",
       "        vertical-align: middle;\n",
       "    }\n",
       "\n",
       "    .dataframe tbody tr th {\n",
       "        vertical-align: top;\n",
       "    }\n",
       "\n",
       "    .dataframe thead th {\n",
       "        text-align: right;\n",
       "    }\n",
       "</style>\n",
       "<table border=\"1\" class=\"dataframe\">\n",
       "  <thead>\n",
       "    <tr style=\"text-align: right;\">\n",
       "      <th></th>\n",
       "      <th>username</th>\n",
       "      <th>reponame</th>\n",
       "      <th>repourl</th>\n",
       "      <th>stars</th>\n",
       "    </tr>\n",
       "  </thead>\n",
       "  <tbody>\n",
       "    <tr>\n",
       "      <th>0</th>\n",
       "      <td>jwasham</td>\n",
       "      <td>coding-interview-university</td>\n",
       "      <td>https://www.github.com/jwasham/coding-intervie...</td>\n",
       "      <td>262000</td>\n",
       "    </tr>\n",
       "    <tr>\n",
       "      <th>1</th>\n",
       "      <td>trekhleb</td>\n",
       "      <td>javascript-algorithms</td>\n",
       "      <td>https://www.github.com/trekhleb/javascript-alg...</td>\n",
       "      <td>173000</td>\n",
       "    </tr>\n",
       "    <tr>\n",
       "      <th>2</th>\n",
       "      <td>CyC2018</td>\n",
       "      <td>CS-Notes</td>\n",
       "      <td>https://www.github.com/CyC2018/CS-Notes</td>\n",
       "      <td>166000</td>\n",
       "    </tr>\n",
       "    <tr>\n",
       "      <th>3</th>\n",
       "      <td>TheAlgorithms</td>\n",
       "      <td>Python</td>\n",
       "      <td>https://www.github.com/TheAlgorithms/Python</td>\n",
       "      <td>163000</td>\n",
       "    </tr>\n",
       "    <tr>\n",
       "      <th>4</th>\n",
       "      <td>yangshun</td>\n",
       "      <td>tech-interview-handbook</td>\n",
       "      <td>https://www.github.com/yangshun/tech-interview...</td>\n",
       "      <td>93600</td>\n",
       "    </tr>\n",
       "    <tr>\n",
       "      <th>5</th>\n",
       "      <td>kdn251</td>\n",
       "      <td>interviews</td>\n",
       "      <td>https://www.github.com/kdn251/interviews</td>\n",
       "      <td>60200</td>\n",
       "    </tr>\n",
       "    <tr>\n",
       "      <th>6</th>\n",
       "      <td>TheAlgorithms</td>\n",
       "      <td>Java</td>\n",
       "      <td>https://www.github.com/TheAlgorithms/Java</td>\n",
       "      <td>53000</td>\n",
       "    </tr>\n",
       "    <tr>\n",
       "      <th>7</th>\n",
       "      <td>azl397985856</td>\n",
       "      <td>leetcode</td>\n",
       "      <td>https://www.github.com/azl397985856/leetcode</td>\n",
       "      <td>51800</td>\n",
       "    </tr>\n",
       "    <tr>\n",
       "      <th>8</th>\n",
       "      <td>algorithm-visualizer</td>\n",
       "      <td>algorithm-visualizer</td>\n",
       "      <td>https://www.github.com/algorithm-visualizer/al...</td>\n",
       "      <td>43800</td>\n",
       "    </tr>\n",
       "    <tr>\n",
       "      <th>9</th>\n",
       "      <td>youngyangyang04</td>\n",
       "      <td>leetcode-master</td>\n",
       "      <td>https://www.github.com/youngyangyang04/leetcod...</td>\n",
       "      <td>40800</td>\n",
       "    </tr>\n",
       "    <tr>\n",
       "      <th>10</th>\n",
       "      <td>halfrost</td>\n",
       "      <td>LeetCode-Go</td>\n",
       "      <td>https://www.github.com/halfrost/LeetCode-Go</td>\n",
       "      <td>30200</td>\n",
       "    </tr>\n",
       "    <tr>\n",
       "      <th>11</th>\n",
       "      <td>huihut</td>\n",
       "      <td>interview</td>\n",
       "      <td>https://www.github.com/huihut/interview</td>\n",
       "      <td>29800</td>\n",
       "    </tr>\n",
       "    <tr>\n",
       "      <th>12</th>\n",
       "      <td>donnemartin</td>\n",
       "      <td>interactive-coding-challenges</td>\n",
       "      <td>https://www.github.com/donnemartin/interactive...</td>\n",
       "      <td>27700</td>\n",
       "    </tr>\n",
       "    <tr>\n",
       "      <th>13</th>\n",
       "      <td>TheAlgorithms</td>\n",
       "      <td>JavaScript</td>\n",
       "      <td>https://www.github.com/TheAlgorithms/JavaScript</td>\n",
       "      <td>27300</td>\n",
       "    </tr>\n",
       "    <tr>\n",
       "      <th>14</th>\n",
       "      <td>crossoverJie</td>\n",
       "      <td>JCSprout</td>\n",
       "      <td>https://www.github.com/crossoverJie/JCSprout</td>\n",
       "      <td>27000</td>\n",
       "    </tr>\n",
       "    <tr>\n",
       "      <th>15</th>\n",
       "      <td>TheAlgorithms</td>\n",
       "      <td>C-Plus-Plus</td>\n",
       "      <td>https://www.github.com/TheAlgorithms/C-Plus-Plus</td>\n",
       "      <td>25100</td>\n",
       "    </tr>\n",
       "    <tr>\n",
       "      <th>16</th>\n",
       "      <td>keon</td>\n",
       "      <td>algorithms</td>\n",
       "      <td>https://www.github.com/keon/algorithms</td>\n",
       "      <td>22800</td>\n",
       "    </tr>\n",
       "    <tr>\n",
       "      <th>17</th>\n",
       "      <td>mxgmn</td>\n",
       "      <td>WaveFunctionCollapse</td>\n",
       "      <td>https://www.github.com/mxgmn/WaveFunctionCollapse</td>\n",
       "      <td>21600</td>\n",
       "    </tr>\n",
       "    <tr>\n",
       "      <th>18</th>\n",
       "      <td>trekhleb</td>\n",
       "      <td>homemade-machine-learning</td>\n",
       "      <td>https://www.github.com/trekhleb/homemade-machi...</td>\n",
       "      <td>21600</td>\n",
       "    </tr>\n",
       "    <tr>\n",
       "      <th>19</th>\n",
       "      <td>AtsushiSakai</td>\n",
       "      <td>PythonRobotics</td>\n",
       "      <td>https://www.github.com/AtsushiSakai/PythonRobo...</td>\n",
       "      <td>19400</td>\n",
       "    </tr>\n",
       "  </tbody>\n",
       "</table>\n",
       "</div>"
      ],
      "text/plain": [
       "                username                       reponame  \\\n",
       "0                jwasham    coding-interview-university   \n",
       "1               trekhleb          javascript-algorithms   \n",
       "2                CyC2018                       CS-Notes   \n",
       "3          TheAlgorithms                         Python   \n",
       "4               yangshun        tech-interview-handbook   \n",
       "5                 kdn251                     interviews   \n",
       "6          TheAlgorithms                           Java   \n",
       "7           azl397985856                       leetcode   \n",
       "8   algorithm-visualizer           algorithm-visualizer   \n",
       "9        youngyangyang04                leetcode-master   \n",
       "10              halfrost                    LeetCode-Go   \n",
       "11                huihut                      interview   \n",
       "12           donnemartin  interactive-coding-challenges   \n",
       "13         TheAlgorithms                     JavaScript   \n",
       "14          crossoverJie                       JCSprout   \n",
       "15         TheAlgorithms                    C-Plus-Plus   \n",
       "16                  keon                     algorithms   \n",
       "17                 mxgmn           WaveFunctionCollapse   \n",
       "18              trekhleb      homemade-machine-learning   \n",
       "19          AtsushiSakai                 PythonRobotics   \n",
       "\n",
       "                                              repourl   stars  \n",
       "0   https://www.github.com/jwasham/coding-intervie...  262000  \n",
       "1   https://www.github.com/trekhleb/javascript-alg...  173000  \n",
       "2             https://www.github.com/CyC2018/CS-Notes  166000  \n",
       "3         https://www.github.com/TheAlgorithms/Python  163000  \n",
       "4   https://www.github.com/yangshun/tech-interview...   93600  \n",
       "5            https://www.github.com/kdn251/interviews   60200  \n",
       "6           https://www.github.com/TheAlgorithms/Java   53000  \n",
       "7        https://www.github.com/azl397985856/leetcode   51800  \n",
       "8   https://www.github.com/algorithm-visualizer/al...   43800  \n",
       "9   https://www.github.com/youngyangyang04/leetcod...   40800  \n",
       "10        https://www.github.com/halfrost/LeetCode-Go   30200  \n",
       "11            https://www.github.com/huihut/interview   29800  \n",
       "12  https://www.github.com/donnemartin/interactive...   27700  \n",
       "13    https://www.github.com/TheAlgorithms/JavaScript   27300  \n",
       "14       https://www.github.com/crossoverJie/JCSprout   27000  \n",
       "15   https://www.github.com/TheAlgorithms/C-Plus-Plus   25100  \n",
       "16             https://www.github.com/keon/algorithms   22800  \n",
       "17  https://www.github.com/mxgmn/WaveFunctionCollapse   21600  \n",
       "18  https://www.github.com/trekhleb/homemade-machi...   21600  \n",
       "19  https://www.github.com/AtsushiSakai/PythonRobo...   19400  "
      ]
     },
     "execution_count": 44,
     "metadata": {},
     "output_type": "execute_result"
    }
   ],
   "source": [
    "get_topic_repos(links_all[2])"
   ]
  },
  {
   "cell_type": "markdown",
   "id": "2806acd2",
   "metadata": {},
   "source": [
    "## Putting all together"
   ]
  },
  {
   "cell_type": "markdown",
   "id": "bb739e17",
   "metadata": {},
   "source": [
    "## Contains Functions Code for Topic Name & Info"
   ]
  },
  {
   "cell_type": "code",
   "execution_count": 45,
   "id": "e4589bf6",
   "metadata": {},
   "outputs": [],
   "source": [
    "import requests\n",
    "from bs4 import BeautifulSoup\n",
    "\n",
    "def get_topic_titles(doc):\n",
    "    title = soup.find_all('p',class_ = 'f3 lh-condensed mb-0 mt-1 Link--primary')\n",
    "    title_all = []\n",
    "    for i in title:\n",
    "        title_all.append(i.text)\n",
    "    return title_all\n",
    "\n",
    "def get_topic_context(doc):\n",
    "    context = soup.find_all('p',class_ = 'f5 color-fg-muted mb-0 mt-1')\n",
    "    context_all = []\n",
    "    for i in context:\n",
    "        context_all.append(i.text.strip())\n",
    "    return context_all\n",
    "\n",
    "def get_topic_urls(doc):\n",
    "    all_links = soup.find_all('a',class_ = 'no-underline flex-1 d-flex flex-column')\n",
    "    links_all = []\n",
    "    start = \"https://github.com\"\n",
    "    for i in all_links:\n",
    "        links_all.append(start + i['href'])\n",
    "    return links_all\n",
    "    \n",
    "\n",
    "def scrape_topic_repos():\n",
    "    topic_url = \"https://github.com/topics\"\n",
    "    response = requests.get(topic_url)\n",
    "    if response.status_code!=200:\n",
    "        raise Exception (f\"Failed to Load Page : {topic_url}\")\n",
    "    else:\n",
    "        page_content = response.text\n",
    "        soup_doc= BeautifulSoup(page_content,\"html.parser\")\n",
    "        topics_dict={\n",
    "            \"Topic Name\" :get_topic_titles(soup_doc),\n",
    "            \"Topic Context\" :get_topic_context(soup_doc),\n",
    "            \"Topic Urls\" : get_topic_urls(soup_doc) \n",
    "        }\n",
    "        return pd.DataFrame(topics_dict)\n",
    "        "
   ]
  },
  {
   "cell_type": "markdown",
   "id": "16146700",
   "metadata": {},
   "source": [
    "## Contains Function for Topicwise TopRepository Scrapping"
   ]
  },
  {
   "cell_type": "code",
   "execution_count": 46,
   "id": "ecf93160",
   "metadata": {},
   "outputs": [],
   "source": [
    "import os\n",
    "def str_to_int(inputstr):\n",
    "    inputstr = inputstr.strip()\n",
    "    if inputstr[-1] == 'k':\n",
    "        return int(float(inputstr[:-1]) *1000)\n",
    "    return int(inputstr)\n",
    "\n",
    "def get_repo_info(repo_information,star_tag):\n",
    "        a_tags = repo_information.find_all('a')\n",
    "        username = a_tags[0].text.strip()\n",
    "        reponame = a_tags[1].text.strip()\n",
    "        repourl = \"https://www.github.com\" + a_tags[1]['href']\n",
    "        stars = str_to_int(star_tag.text)\n",
    "        return username,reponame,stars,repourl\n",
    "\n",
    "\n",
    "def get_topic_repos(topic_url):\n",
    "    response = requests.get(topic_url)\n",
    "    if response.status_code !=200:\n",
    "        raise Exception (f\"Failed to Load Page : {topic_url}\")\n",
    "            \n",
    "    else:        \n",
    "        topicwise_doc = BeautifulSoup(response.text,\"html.parser\")\n",
    "        repo_info = topicwise_doc.find_all('h3',class_='f3 color-fg-muted text-normal lh-condensed')\n",
    "        stars_info = topicwise_doc.find_all('span',class_='Counter js-social-count')\n",
    "    \n",
    "        topic_repo_dict = {'username':[],'reponame':[],'repourl':[],'stars':[] }\n",
    "\n",
    "        for i in range(len(repo_info)):\n",
    "            repo_information = get_repo_info(repo_info[i],stars_info[i])\n",
    "            topic_repo_dict['username'].append(repo_information[0])\n",
    "            topic_repo_dict['reponame'].append(repo_information[1])\n",
    "            topic_repo_dict['repourl'].append(repo_information[3])\n",
    "            topic_repo_dict['stars'].append(repo_information[2])\n",
    "    df = pd.DataFrame(topic_repo_dict)\n",
    "    return df\n",
    "\n",
    "def scrape_topic_csv(topic_url,path):\n",
    "    if os.path.exists(path):\n",
    "        print(\"The file {} already exists. Skipping...\".format(path))\n",
    "        return\n",
    "    topic_df = get_topic_repos(topic_url)\n",
    "    topic_df.to_csv(path, index=None)\n",
    "    \n",
    "    \n",
    "def scrape_topicwise_repo():\n",
    "    print(\"Scrapping List of Topics\")\n",
    "    topics_df = scrape_topic_repos()\n",
    "    \n",
    "    os.makedirs('Repo_data', exist_ok=True)\n",
    "    \n",
    "    for index,i in topics_df.iterrows():\n",
    "        print(f\"Scrapping Top Repositories for '{i['Topic Name']}'  \")\n",
    "        scrape_topic_csv(i['Topic Urls'],'Repo_data/{}.csv'.format(i['Topic Name']))\n",
    "    print(\"Scrapping Successful\")\n"
   ]
  },
  {
   "cell_type": "code",
   "execution_count": 47,
   "id": "6c65d88f",
   "metadata": {},
   "outputs": [
    {
     "name": "stdout",
     "output_type": "stream",
     "text": [
      "Scrapping List of Topics\n",
      "Scrapping Top Repositories for '3D'  \n",
      "The file Repo_data/3D.csv already exists. Skipping...\n",
      "Scrapping Top Repositories for 'Ajax'  \n",
      "The file Repo_data/Ajax.csv already exists. Skipping...\n",
      "Scrapping Top Repositories for 'Algorithm'  \n",
      "The file Repo_data/Algorithm.csv already exists. Skipping...\n",
      "Scrapping Top Repositories for 'Amp'  \n",
      "The file Repo_data/Amp.csv already exists. Skipping...\n",
      "Scrapping Top Repositories for 'Android'  \n",
      "The file Repo_data/Android.csv already exists. Skipping...\n",
      "Scrapping Top Repositories for 'Angular'  \n",
      "The file Repo_data/Angular.csv already exists. Skipping...\n",
      "Scrapping Top Repositories for 'Ansible'  \n",
      "The file Repo_data/Ansible.csv already exists. Skipping...\n",
      "Scrapping Top Repositories for 'API'  \n",
      "The file Repo_data/API.csv already exists. Skipping...\n",
      "Scrapping Top Repositories for 'Arduino'  \n",
      "The file Repo_data/Arduino.csv already exists. Skipping...\n",
      "Scrapping Top Repositories for 'ASP.NET'  \n",
      "The file Repo_data/ASP.NET.csv already exists. Skipping...\n",
      "Scrapping Top Repositories for 'Atom'  \n",
      "The file Repo_data/Atom.csv already exists. Skipping...\n",
      "Scrapping Top Repositories for 'Awesome Lists'  \n",
      "The file Repo_data/Awesome Lists.csv already exists. Skipping...\n",
      "Scrapping Top Repositories for 'Amazon Web Services'  \n",
      "The file Repo_data/Amazon Web Services.csv already exists. Skipping...\n",
      "Scrapping Top Repositories for 'Azure'  \n",
      "The file Repo_data/Azure.csv already exists. Skipping...\n",
      "Scrapping Top Repositories for 'Babel'  \n",
      "The file Repo_data/Babel.csv already exists. Skipping...\n",
      "Scrapping Top Repositories for 'Bash'  \n",
      "The file Repo_data/Bash.csv already exists. Skipping...\n",
      "Scrapping Top Repositories for 'Bitcoin'  \n",
      "The file Repo_data/Bitcoin.csv already exists. Skipping...\n",
      "Scrapping Top Repositories for 'Bootstrap'  \n",
      "The file Repo_data/Bootstrap.csv already exists. Skipping...\n",
      "Scrapping Top Repositories for 'Bot'  \n",
      "The file Repo_data/Bot.csv already exists. Skipping...\n",
      "Scrapping Top Repositories for 'C'  \n",
      "The file Repo_data/C.csv already exists. Skipping...\n",
      "Scrapping Top Repositories for 'Chrome'  \n",
      "The file Repo_data/Chrome.csv already exists. Skipping...\n",
      "Scrapping Top Repositories for 'Chrome extension'  \n",
      "The file Repo_data/Chrome extension.csv already exists. Skipping...\n",
      "Scrapping Top Repositories for 'Command line interface'  \n",
      "The file Repo_data/Command line interface.csv already exists. Skipping...\n",
      "Scrapping Top Repositories for 'Clojure'  \n",
      "The file Repo_data/Clojure.csv already exists. Skipping...\n",
      "Scrapping Top Repositories for 'Code quality'  \n",
      "The file Repo_data/Code quality.csv already exists. Skipping...\n",
      "Scrapping Top Repositories for 'Code review'  \n",
      "The file Repo_data/Code review.csv already exists. Skipping...\n",
      "Scrapping Top Repositories for 'Compiler'  \n",
      "The file Repo_data/Compiler.csv already exists. Skipping...\n",
      "Scrapping Top Repositories for 'Continuous integration'  \n",
      "The file Repo_data/Continuous integration.csv already exists. Skipping...\n",
      "Scrapping Top Repositories for 'COVID-19'  \n",
      "The file Repo_data/COVID-19.csv already exists. Skipping...\n",
      "Scrapping Top Repositories for 'C++'  \n",
      "The file Repo_data/C++.csv already exists. Skipping...\n",
      "Scrapping Successful\n"
     ]
    }
   ],
   "source": [
    "scrape_topicwise_repo()"
   ]
  },
  {
   "cell_type": "code",
   "execution_count": 48,
   "id": "40a685fe",
   "metadata": {},
   "outputs": [
    {
     "name": "stdout",
     "output_type": "stream",
     "text": [
      "Help on built-in function mkdir in module posix:\n",
      "\n",
      "mkdir(path, mode=511, *, dir_fd=None)\n",
      "    Create a directory.\n",
      "    \n",
      "    If dir_fd is not None, it should be a file descriptor open to a directory,\n",
      "      and path should be relative; path will then be relative to that directory.\n",
      "    dir_fd may not be implemented on your platform.\n",
      "      If it is unavailable, using it will raise a NotImplementedError.\n",
      "    \n",
      "    The mode argument is ignored on Windows. Where it is used, the current umask\n",
      "    value is first masked out.\n",
      "\n"
     ]
    }
   ],
   "source": [
    "import os\n",
    "\n",
    "help(os.mkdir)"
   ]
  }
 ],
 "metadata": {
  "kernelspec": {
   "display_name": "Python 3 (ipykernel)",
   "language": "python",
   "name": "python3"
  },
  "language_info": {
   "codemirror_mode": {
    "name": "ipython",
    "version": 3
   },
   "file_extension": ".py",
   "mimetype": "text/x-python",
   "name": "python",
   "nbconvert_exporter": "python",
   "pygments_lexer": "ipython3",
   "version": "3.10.9"
  }
 },
 "nbformat": 4,
 "nbformat_minor": 5
}
